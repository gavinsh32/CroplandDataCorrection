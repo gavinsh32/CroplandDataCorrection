{
  "nbformat": 4,
  "nbformat_minor": 0,
  "metadata": {
    "colab": {
      "provenance": [],
      "toc_visible": true,
      "authorship_tag": "ABX9TyM4Bmt85TpfPc2LmnDptxug",
      "include_colab_link": true
    },
    "kernelspec": {
      "name": "python3",
      "display_name": "Python 3"
    },
    "language_info": {
      "name": "python"
    }
  },
  "cells": [
    {
      "cell_type": "markdown",
      "metadata": {
        "id": "view-in-github",
        "colab_type": "text"
      },
      "source": [
        "<a href=\"https://colab.research.google.com/github/gavinsh32/CroplandDataCorrection/blob/main/crosdatacorrection.ipynb\" target=\"_parent\"><img src=\"https://colab.research.google.com/assets/colab-badge.svg\" alt=\"Open In Colab\"/></a>"
      ]
    },
    {
      "cell_type": "markdown",
      "source": [
        "# CROS Data Correction\n",
        "Gavin Haynes, Ibrahim Monsour\n",
        "\n",
        "CroplandCROS is a dataset acquired from satellite imagery which is an image where each pixel represents a 30 by 30m plot of land of one type of crop."
      ],
      "metadata": {
        "id": "HhWoETv0ThZK"
      }
    },
    {
      "cell_type": "markdown",
      "source": [
        "## Install Prerequisites\n"
      ],
      "metadata": {
        "id": "JoFjNGVLTVHa"
      }
    },
    {
      "cell_type": "code",
      "execution_count": 1,
      "metadata": {
        "colab": {
          "base_uri": "https://localhost:8080/"
        },
        "id": "o3ApVPmRTACW",
        "outputId": "4f20cfbc-3a1e-472d-e513-95ba5166a499"
      },
      "outputs": [
        {
          "output_type": "stream",
          "name": "stdout",
          "text": [
            "Requirement already satisfied: numpy in /usr/local/lib/python3.10/dist-packages (1.26.4)\n"
          ]
        }
      ],
      "source": [
        "pip install numpy"
      ]
    },
    {
      "cell_type": "markdown",
      "source": [
        "## Load Input Sample\n"
      ],
      "metadata": {
        "id": "YtMjKdaJUvo8"
      }
    },
    {
      "cell_type": "code",
      "source": [],
      "metadata": {
        "id": "ZrclSOWiU71m"
      },
      "execution_count": null,
      "outputs": []
    },
    {
      "cell_type": "markdown",
      "source": [
        "## Project Input Pixel-wise\n",
        "Split the input in to images with only one pixel color."
      ],
      "metadata": {
        "id": "Mjd6op5rU6-H"
      }
    },
    {
      "cell_type": "code",
      "source": [],
      "metadata": {
        "id": "ZE1wCMOYVAip"
      },
      "execution_count": null,
      "outputs": []
    },
    {
      "cell_type": "markdown",
      "source": [
        "## Segment Farm Groups\n",
        "Identify clumps of pixels, which represent a farm."
      ],
      "metadata": {
        "id": "smcIW5ulVT2N"
      }
    },
    {
      "cell_type": "code",
      "source": [],
      "metadata": {
        "id": "jD5yQN7PVZnK"
      },
      "execution_count": null,
      "outputs": []
    },
    {
      "cell_type": "markdown",
      "source": [
        "## Squash Ouput\n",
        "Take the corrected projected inputs and squash them back in to the original dataset."
      ],
      "metadata": {
        "id": "XsTcRiyzVdGc"
      }
    }
  ]
}